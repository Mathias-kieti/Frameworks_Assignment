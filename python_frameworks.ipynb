{
 "cells": [
  {
   "cell_type": "markdown",
   "id": "51081984",
   "metadata": {},
   "source": [
    "import the necessary libraries"
   ]
  },
  {
   "cell_type": "code",
   "execution_count": null,
   "id": "4dd4e249",
   "metadata": {},
   "outputs": [],
   "source": [
    "import pandas as pd\n",
    "import matplotlib.pyplot as plt\n",
    "from collections import Counter\n",
    "from wordcloud import WordCloud"
   ]
  },
  {
   "cell_type": "markdown",
   "id": "47b06a3f",
   "metadata": {},
   "source": [
    "load into a dataframe"
   ]
  },
  {
   "cell_type": "code",
   "execution_count": null,
   "id": "53068d6a",
   "metadata": {},
   "outputs": [],
   "source": [
    "df = pd.read_csv(\n",
    "    r\"C:\\\\Users\\\\user\\\\Downloads\\\\metadata.csv.zip\",  # <-- Path to your dataset\n",
    "    nrows=500,                                    # Load only first 500 rows\n",
    "    low_memory=False                              # Avoid dtype guessing issues\n",
    ")"
   ]
  },
  {
   "cell_type": "markdown",
   "id": "d1306699",
   "metadata": {},
   "source": [
    "explore the structure"
   ]
  },
  {
   "cell_type": "code",
   "execution_count": null,
   "id": "c57e7515",
   "metadata": {},
   "outputs": [],
   "source": [
    "print(df.shape)     # Check size\n",
    "print(df.info())    # Data types, null counts\n",
    "print(df.head())    # Preview data"
   ]
  },
  {
   "cell_type": "markdown",
   "id": "358338af",
   "metadata": {},
   "source": [
    "look at missing values and summary statistics"
   ]
  },
  {
   "cell_type": "code",
   "execution_count": null,
   "id": "d0e8db05",
   "metadata": {},
   "outputs": [],
   "source": [
    "print(df.isnull().sum())   # Count of nulls per column\n",
    "print(df.describe(include='all'))     # Summary stats for numeric and categorical columns"
   ]
  },
  {
   "cell_type": "markdown",
   "id": "9fdd0856",
   "metadata": {},
   "source": [
    "# Data cleaning and preparation"
   ]
  },
  {
   "cell_type": "markdown",
   "id": "67ac6b4a",
   "metadata": {},
   "source": [
    "handle missing values"
   ]
  },
  {
   "cell_type": "code",
   "execution_count": null,
   "id": "35efecd4",
   "metadata": {},
   "outputs": [],
   "source": [
    "missing_values = df.isnull().sum().sort_values(ascending=False)   # Sort columns by missing values\n",
    "print(missing_values.head())  # Print top columns with most missing values"
   ]
  },
  {
   "cell_type": "markdown",
   "id": "330efdb2",
   "metadata": {},
   "source": [
    "clean date columns"
   ]
  },
  {
   "cell_type": "code",
   "execution_count": null,
   "id": "53859e8e",
   "metadata": {},
   "outputs": [],
   "source": [
    "df['publish_time'] = pd.to_datetime(df['publish_time'], errors='coerce') # Convert to datetime\n",
    "df['year'] = df['publish_time'].dt.year  # Extract year\n",
    "df['month'] = df['publish_time'].dt.month # Extract month\n",
    "df['day'] = df['publish_time'].dt.day     # Extract day"
   ]
  },
  {
   "cell_type": "markdown",
   "id": "ee4b6039",
   "metadata": {},
   "source": [
    "save a cleaned version"
   ]
  },
  {
   "cell_type": "code",
   "execution_count": null,
   "id": "44e286b6",
   "metadata": {},
   "outputs": [],
   "source": [
    "df_clean = df.copy()\n",
    "df_clean.to_csv(\"metadata_clean.csv\", index=False)"
   ]
  },
  {
   "cell_type": "markdown",
   "id": "10842f64",
   "metadata": {},
   "source": [
    "# Data analysis and visualisation"
   ]
  },
  {
   "cell_type": "markdown",
   "id": "aacdc463",
   "metadata": {},
   "source": [
    "publication per year"
   ]
  },
  {
   "cell_type": "code",
   "execution_count": null,
   "id": "9d51ee2b",
   "metadata": {},
   "outputs": [],
   "source": [
    "year_counts = df_clean['year'].value_counts().sort_index()  # Count publications per year\n",
    "year_counts.plot(kind='bar', title='Publications by Year')  # Bar chart of publications per year\n",
    "plt.xlabel('Year')\n",
    "plt.ylabel('Number of Publications')\n",
    "plt.show()"
   ]
  },
  {
   "cell_type": "markdown",
   "id": "2849dec6",
   "metadata": {},
   "source": [
    "top journas"
   ]
  },
  {
   "cell_type": "code",
   "execution_count": null,
   "id": "39721249",
   "metadata": {},
   "outputs": [],
   "source": [
    "top_journals = df_clean['journal'].value_counts().head(10)\n",
    "top_journals.plot(kind='barh', title='Top Journals')"
   ]
  },
  {
   "cell_type": "markdown",
   "id": "bd979cca",
   "metadata": {},
   "source": [
    "frequent words in titles"
   ]
  },
  {
   "cell_type": "code",
   "execution_count": null,
   "id": "8de1feeb",
   "metadata": {},
   "outputs": [],
   "source": [
    "from collections import Counter\n",
    "words = \" \".join(df_clean['title'].dropna()).lower().split()\n",
    "common_words = Counter(words).most_common(20)\n",
    "print(common_words)"
   ]
  },
  {
   "cell_type": "markdown",
   "id": "d32f409f",
   "metadata": {},
   "source": [
    "visalization"
   ]
  },
  {
   "cell_type": "code",
   "execution_count": null,
   "id": "a4093434",
   "metadata": {},
   "outputs": [],
   "source": [
    "from wordcloud import WordCloud\n",
    "wc = WordCloud(width=800, height=400).generate(\" \".join(df_clean['title'].dropna()))\n",
    "plt.imshow(wc, interpolation='bilinear')\n",
    "plt.axis(\"off\")\n",
    "plt.show()\n"
   ]
  },
  {
   "cell_type": "markdown",
   "id": "382cf255",
   "metadata": {},
   "source": [
    "# Streamlit app"
   ]
  },
  {
   "cell_type": "markdown",
   "id": "018bcbc4",
   "metadata": {},
   "source": [
    "basic layout"
   ]
  },
  {
   "cell_type": "code",
   "execution_count": null,
   "id": "75399ffd",
   "metadata": {},
   "outputs": [],
   "source": [
    "import streamlit as st\n",
    "import matplotlib.pyplot as plt\n",
    "\n",
    "st.title(\"CORD-19 Data Explorer\")\n",
    "st.write(\"Explore COVID-19 research publications\")\n"
   ]
  },
  {
   "cell_type": "markdown",
   "id": "57718628",
   "metadata": {},
   "source": [
    "interaction elements"
   ]
  },
  {
   "cell_type": "code",
   "execution_count": null,
   "id": "f3efc8da",
   "metadata": {},
   "outputs": [],
   "source": [
    "years = df_clean['year'].dropna().astype(int).unique()\n",
    "min_year, max_year = years.min(), years.max() # Get min and max year\n",
    "year_range = st.slider(\"Select Year Range\", min_year, max_year, (2020, 2021))\n",
    "\n",
    "filtered = df_clean[(df_clean['year'] >= year_range[0]) & (df_clean['year'] <= year_range[1])] # Filter by year range\n",
    "st.write(filtered.head())\n"
   ]
  },
  {
   "cell_type": "markdown",
   "id": "4d5ffb2d",
   "metadata": {},
   "source": [
    "show charts in the app"
   ]
  },
  {
   "cell_type": "code",
   "execution_count": null,
   "id": "800f5ca1",
   "metadata": {},
   "outputs": [],
   "source": [
    "st.bar_chart(filtered['year'].value_counts().sort_index())"
   ]
  }
 ],
 "metadata": {
  "kernelspec": {
   "display_name": "Python 3",
   "language": "python",
   "name": "python3"
  },
  "language_info": {
   "codemirror_mode": {
    "name": "ipython",
    "version": 3
   },
   "file_extension": ".py",
   "mimetype": "text/x-python",
   "name": "python",
   "nbconvert_exporter": "python",
   "pygments_lexer": "ipython3",
   "version": "3.13.7"
  }
 },
 "nbformat": 4,
 "nbformat_minor": 5
}
